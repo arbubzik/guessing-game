{
 "cells": [
  {
   "cell_type": "code",
   "execution_count": null,
   "id": "d3a42f43",
   "metadata": {},
   "outputs": [],
   "source": [
    "User inputs the lower bound and upper bound of the range.\n",
    "The compiler generates a random integer between the range and store it in a variable for future references.\n",
    "For repetitive guessing, a while loop will be initialized.\n",
    "If the user guessed a number which is greater than a randomly selected number, the user gets an output “Try Again! You guessed too high“\n",
    "Else If the user guessed a number which is smaller than a randomly selected number, the user gets an output “Try Again! You guessed too small”\n",
    "And if the user guessed in a minimum number of guesses, the user gets a “Congratulations! ” Output.\n",
    "Else if the user didn’t guess the integer in the minimum number of guesses, he/she will get “Better Luck Next Time!” output."
   ]
  },
  {
   "cell_type": "code",
   "execution_count": 1,
   "id": "7300a505",
   "metadata": {},
   "outputs": [],
   "source": [
    "import random\n",
    "import math"
   ]
  },
  {
   "cell_type": "code",
   "execution_count": 23,
   "id": "fe396228",
   "metadata": {},
   "outputs": [
    {
     "name": "stdout",
     "output_type": "stream",
     "text": [
      "Choose your lower bound of the range: 1\n",
      "Choose your upper bound of the range: 50\n"
     ]
    }
   ],
   "source": [
    "#creating lower and upper bound\n",
    "lower_bound = int(input(\"Choose your lower bound of the range: \"))\n",
    "upper_bound = int(input(\"Choose your upper bound of the range: \"))"
   ]
  },
  {
   "cell_type": "code",
   "execution_count": 24,
   "id": "9c5cce20",
   "metadata": {},
   "outputs": [
    {
     "name": "stdout",
     "output_type": "stream",
     "text": [
      "6\n"
     ]
    }
   ],
   "source": [
    "#calculating how many times user can guess\n",
    "x = upper_bound - lower_bound\n",
    "guessing_times_not_rounded = math.log(x, 2)\n",
    "guessing_times_rounded = round(guessing_times_not_rounded)"
   ]
  },
  {
   "cell_type": "code",
   "execution_count": 42,
   "id": "a7576508",
   "metadata": {},
   "outputs": [],
   "source": [
    "#getting random number in the range that user did input\n",
    "random_number_generated = random.randint(lower_bound, upper_bound)"
   ]
  },
  {
   "cell_type": "code",
   "execution_count": 50,
   "id": "5968c9f1",
   "metadata": {},
   "outputs": [
    {
     "name": "stdout",
     "output_type": "stream",
     "text": [
      "Guess the number: 8\n"
     ]
    }
   ],
   "source": [
    "guessing_number = int(input(\"Guess the number: \"))"
   ]
  },
  {
   "cell_type": "code",
   "execution_count": 51,
   "id": "a20ba9d5",
   "metadata": {},
   "outputs": [],
   "source": [
    "while guessing_times_rounded > 0:\n",
    "    if guessing_number > random_number_generated:\n",
    "        print(\"Try Again! You guessed too high\")\n",
    "    elif guessing_number < random_number_generated:\n",
    "        print(\"Try Again! You guessed too small\")\n",
    "    else:\n",
    "        print(\"Congratularions!\")\n",
    "        break\n",
    "    guessing_times_rounded-=1"
   ]
  },
  {
   "cell_type": "code",
   "execution_count": null,
   "id": "c8df95b1",
   "metadata": {},
   "outputs": [],
   "source": []
  }
 ],
 "metadata": {
  "kernelspec": {
   "display_name": "Python 3 (ipykernel)",
   "language": "python",
   "name": "python3"
  },
  "language_info": {
   "codemirror_mode": {
    "name": "ipython",
    "version": 3
   },
   "file_extension": ".py",
   "mimetype": "text/x-python",
   "name": "python",
   "nbconvert_exporter": "python",
   "pygments_lexer": "ipython3",
   "version": "3.11.4"
  }
 },
 "nbformat": 4,
 "nbformat_minor": 5
}
